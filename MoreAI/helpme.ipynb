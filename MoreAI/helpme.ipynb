{
 "cells": [
  {
   "cell_type": "markdown",
   "metadata": {},
   "source": [
    "# IMAP and Twilio Integrations!\n",
    "\n",
    "Mark Brogan"
   ]
  },
  {
   "cell_type": "markdown",
   "metadata": {},
   "source": [
    "## Using IMAP and Twilio to send SMS on retrieval of new emails from a given address\n",
    "\n",
    "Using IMAP to attach myself to my gmail account to query any results from the domain specified (or really any search parameter)\n",
    "If a new entry is found, it will connect to twilio's CLI and send a text meesage to my phone with a message saying I got an email.\n",
    "\n",
    "This is currently deployed in my home server and will automatically run 4 times an hour!"
   ]
  },
  {
   "cell_type": "code",
   "execution_count": 12,
   "metadata": {},
   "outputs": [
    {
     "name": "stdout",
     "output_type": "stream",
     "text": [
      "[3283, 3254, 3240, 3239, 3236, 3224, 3223, 3173, 3149, 3106, 3105, 2562, 2418, 2417, 1279, 1278, 1277]\n",
      "[3283, 3254, 3240, 3239, 3236, 3224, 3223, 3173, 3149, 3106, 3105, 2562, 2418, 2417, 1279, 1278, 1277]\n"
     ]
    }
   ],
   "source": [
    "import settings as creds\n",
    "import imapclient as imap\n",
    "from twilio.rest import Client \n",
    "\n",
    "\n",
    "# Create SMTP server connection\n",
    "#smtpObj = smtp.SMTP_SSL('smtp.gmail.com', 465)\n",
    "#smtpObj.login(creds.USERNAME, creds.PASS)\n",
    "\n",
    "#smtpObj.sendmail(creds.USERNAME, 'pat@paje.io', 'Subject: Please End Me\\nWhut')\n",
    "\n",
    "# Create IMAP Connection\n",
    "def update_UIDs():\n",
    "    imapObj = imap.IMAPClient('imap.gmail.com', ssl=True)\n",
    "    imapObj.login(creds.USERNAME, creds.PASS)\n",
    "    imapObj.select_folder('INBOX', readonly=True)\n",
    "\n",
    "    UIDs = imapObj.gmail_search('@twilio.com')\n",
    "    UIDs = UIDs[::-1]\n",
    "\n",
    "    with open('uids.txt', 'r+') as f:\n",
    "        oldUIDs = f.readline()\n",
    "        print(oldUIDs)\n",
    "        print(UIDs)\n",
    "        if len(oldUIDs) == 0:\n",
    "            f.write(str(UIDs))\n",
    "            return\n",
    "\n",
    "    with open('uids.txt', 'w') as overwrite:\n",
    "        overwrite.write(str(UIDs))\n",
    "    send_message(oldUIDs, str(UIDs))\n",
    "\n",
    "\n",
    "def send_message(str_old, str_new):\n",
    "    twilioCLI = Client(creds.TWILIO_SID, creds.TWILIO_TOKEN)\n",
    "    if len(str_old) != len(str_new):\n",
    "        message = twilioCLI.messages.create(messaging_service_sid='MGadc94b9b70fbb545b1c832b91a2af956', body='New Message from Twilio', to=creds.MY_PHONE)\n",
    "\n",
    "update_UIDs()\n"
   ]
  }
 ],
 "metadata": {
  "interpreter": {
   "hash": "b3ba2566441a7c06988d0923437866b63cedc61552a5af99d1f4fb67d367b25f"
  },
  "kernelspec": {
   "display_name": "Python 3.8.8 64-bit ('base': conda)",
   "name": "python3"
  },
  "language_info": {
   "codemirror_mode": {
    "name": "ipython",
    "version": 3
   },
   "file_extension": ".py",
   "mimetype": "text/x-python",
   "name": "python",
   "nbconvert_exporter": "python",
   "pygments_lexer": "ipython3",
   "version": "3.8.8"
  },
  "orig_nbformat": 4
 },
 "nbformat": 4,
 "nbformat_minor": 2
}
